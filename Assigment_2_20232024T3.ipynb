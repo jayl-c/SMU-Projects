{
 "cells": [
  {
   "cell_type": "markdown",
   "metadata": {},
   "source": [
    "<table class=\"table table-bordered\">\n",
    "    <tr>\n",
    "        <th style=\"text-align:center; width:35%\"><img src='https://dl.dropbox.com/s/qtzukmzqavebjd2/icon_smu.jpg' style=\"width: 300px; height: 90px; \"></th>\n",
    "        <th style=\"text-align:center;\"><h3>ISSS621 - Data Science for Business</h3><h3>Assignment 2</h3><h3> 20232024T3</h3></th>\n",
    "    </tr>\n",
    "</table>"
   ]
  },
  {
   "cell_type": "markdown",
   "metadata": {},
   "source": [
    "# Due 11:59pm Sunday, June 23. Please Submit to eLearn"
   ]
  },
  {
   "cell_type": "markdown",
   "metadata": {},
   "source": [
    "### You need to answer all questions as listed out in each question. You are free to use all Python packages and library if needed. "
   ]
  },
  {
   "cell_type": "code",
   "execution_count": 3,
   "metadata": {},
   "outputs": [],
   "source": [
    "import numpy as np"
   ]
  },
  {
   "cell_type": "code",
   "execution_count": null,
   "metadata": {},
   "outputs": [],
   "source": []
  },
  {
   "attachments": {},
   "cell_type": "markdown",
   "metadata": {},
   "source": [
    "# Question 1.  (50 marks)\n",
    "\n",
    "Your company is designing a model to profile customers based on their total purchase amount for each of the last three years. Suppose we have a total of $N$ customers each denoted as $c_i, 1<= I <= N$. For each customer $c_i$, the total purchase amount for the last three years is represented by a vector $P_i= [p^0_i, p^1_i, p^2_i]$ where $p^2_i$ is the most recent year’s amount. Your task is to design a model for a customer value index denoted as $V_i$, such that in general, the higher the purchase amount the more valuable a customer is, and hence the higher the value of $V_i$.\n",
    "\n",
    "You are going to explore different ways to construct the mathematical formula for V_i to design a good model for customer value, depending on how we define the notion of “goodness”.\n"
   ]
  },
  {
   "attachments": {},
   "cell_type": "markdown",
   "metadata": {},
   "source": [
    "### Question 1.1 (10 marks)\n",
    "\n",
    "To start with, one way is to take into consideration all the three years’ purchase amount without any discrimination.\n",
    "\n",
    "Please derive a quantitative value index $V_i$ in the form of a mathematical formula to evaluate the customer value of a customer $c_i$ such that:\n",
    "\n",
    "1.\tA customer’s value index is proportional to the customer’s total purchase amount – the greater the total purchase, the higher the index value.\n",
    "2.\tAll the three years’ purchase amounts are considered equal with no differentiation.\n",
    "3.\tThe final score of V_i should be in the range of $[1,10]$\n",
    "\n",
    "\n"
   ]
  },
  {
   "cell_type": "markdown",
   "metadata": {},
   "source": [
    "#### Answer: \n",
    "\n",
    "\n",
    "\n",
    "\n"
   ]
  },
  {
   "cell_type": "markdown",
   "metadata": {},
   "source": [
    "All three years' purchase amounts are considered equal - metric for total purchase amount vector P can be the sum of the total purchase over the last three years for each customer. This fulfils criteria 1 and 2 as the sum of the total purchases will be considered equal with no weights given. \n",
    "\n",
    "$P_{total}$  = $p_{i}^{0}$ + $p_{i}^{1}$ + $p_{i}^{2}$\n",
    "\n",
    "To scale the data into the desired range of [1,10], we can do a linear transformation. In order to do that, we can obtain the maximum and minimum purchase amounts. \n",
    "\n",
    "$P_{min}$ = $min$($P_{total,N})$\n",
    "\n",
    "$P_{max}$ = $max$($P_{total,N})$\n",
    "\n",
    "Based on this analysis, this leaves us with the proposed metric:\n",
    "\n",
    "$V_i$ = $\\frac{(P_{total,i}-P_{min})*9}{P_{max}-P_{min}}$ + 1"
   ]
  },
  {
   "cell_type": "markdown",
   "metadata": {},
   "source": [
    "Pseudo-code:\n",
    "\n",
    "- Input - sum of $p$ for all customers\n",
    "\n",
    "- Obtain $P_{min}$ and $P_{max}$\n",
    "\n",
    "- Calculate customer's value index $V_i$\n"
   ]
  },
  {
   "cell_type": "code",
   "execution_count": null,
   "metadata": {},
   "outputs": [],
   "source": []
  },
  {
   "cell_type": "code",
   "execution_count": null,
   "metadata": {},
   "outputs": [],
   "source": []
  },
  {
   "attachments": {},
   "cell_type": "markdown",
   "metadata": {},
   "source": [
    "### Question 1.2 (10 marks) \n",
    "\n",
    "\n",
    "The next step is to build on top of the index $V_i$ derived in Question 1.1 to incorporate the notion of “recency” such that the more recent data matters more.\n",
    "\n",
    "Please derive a quantitative value index $V_i$ in the form of a mathematical formula to evaluate the customer value of a customer $c_i$ such that:\n",
    "\n",
    "1.\tA customer’s value index is proportional to the customer’s total purchase amount – the greater the total purchase, the higher the index value.\n",
    "2.\tAll the three years’ purchase amounts are considered, but the more recent year’s data would play a more important role.\n",
    "3.\tThe final score of V_i should be in the range of $[1,10]$"
   ]
  },
  {
   "cell_type": "markdown",
   "metadata": {},
   "source": [
    "#### Answer: "
   ]
  },
  {
   "cell_type": "markdown",
   "metadata": {},
   "source": [
    "Since we are now considering the recency of the purchase where the more recent data is given more priority, we can use weighted sum of the total purchase as a component in calculating $V_i$\n",
    "\n",
    "Hence, we have:\n",
    "\n",
    "$P_{total}$ = $w_0*p_i^{0} + w_1*p_i^{1} +w_2*p_i^{2}$\n",
    "\n",
    "where $w_2 > w_1 > w_0$ and $w_2 + w_1 + w_0 = 1$\n",
    "\n",
    "These weights can be determined based on domain knowledge and analysis such as regression analysis to determine these values\n",
    "\n",
    "Since criteria 1 and 3 remains the same as in 1.1, we can define a similar metric \n",
    "\n",
    "$V_i$ = $\\frac{(P_{total,i}-P_{min})*9}{P_{max}-P_{min}}$ + 1\n",
    "\n",
    "with a different representation of $P_{total}$"
   ]
  },
  {
   "cell_type": "markdown",
   "metadata": {},
   "source": [
    "Pseudo code:\n",
    "- Sum weighted $p$ for all customers\n",
    "- Obtain $P_{min}$ and $P_{max}$\n",
    "- Calculate customer's value index $V_i$"
   ]
  },
  {
   "cell_type": "code",
   "execution_count": null,
   "metadata": {},
   "outputs": [],
   "source": []
  },
  {
   "cell_type": "code",
   "execution_count": null,
   "metadata": {},
   "outputs": [],
   "source": []
  },
  {
   "attachments": {},
   "cell_type": "markdown",
   "metadata": {},
   "source": [
    "### Question 1.3 (10 marks)\n",
    "\n",
    "The next step is to identify those outstanding customers whose total purchase is significantly higher than the average customers.\n",
    "\n",
    "Please derive a quantitative value index $V_i$ in the form of a mathematical formula to evaluate the customer value of a customer $c_i$ such that:\n",
    "\n",
    "1. A customer’s value index is positively correlated to the customer’s total purchase amount – the greater the total purchase, the higher the index value.\n",
    "2. An outstanding customer whose total purchase is significantly higher than the average customers will result in an index value significantly higher accordingly.\n",
    "3. All the three years’ purchase amounts are considered, but the more recent year’s data would play a more important role.\n",
    "4. The final score of V_i should be in the range of $[1,10]$"
   ]
  },
  {
   "cell_type": "markdown",
   "metadata": {},
   "source": [
    "#### Answer: \n",
    "\n",
    "\n",
    "\n",
    "\n"
   ]
  },
  {
   "cell_type": "markdown",
   "metadata": {},
   "source": [
    "Similar to before, we can first calculate the weighted sum of total purchase. This would prioritise recency of the purchase. \n",
    "\n",
    "$P_{total}$ = $w_0*p_i^{0} + w_1*p_i^{1} +w_2*p_i^{2}$\n",
    "\n",
    "where $w_2 > w_1 > w_0$ and $w_2 + w_1 + w_0 = 1$\n",
    "\n",
    "In consideration of criteria 2, we can use the z-score of the customers to index the customers first. Suppose we take the average of all the weighted total purchase amount:\n",
    "\n",
    "$\\mu = \\frac{1}{N}\\sum_{i=1}^{N}P_{weighted,i}$\n",
    "\n",
    "Then, to measure the dispersion of the values, we can take the standard deviation:\n",
    "\n",
    "$\\sigma = \\sqrt{\\frac{1}{N}\\sum_{i=1}^{N}(P_{weighted,i}-\\mu)^{2}}$\n",
    "\n",
    "$\\mu$ and $\\sigma$ can be used to calculate the z-score, where\n",
    "\n",
    "$z_{i} = \\frac{P_{weighted,i}-\\mu}{\\sigma}$\n",
    "\n",
    "\n",
    "\n",
    "$z_{min} = min(z_{i},z_{2},z_{N})$\n",
    "\n",
    "$z_{max} = max(z_{i},z_{2},z_{N})$\n",
    "\n",
    "To fulfil criteria 3, the final score is as such:\n",
    "\n",
    "$V_i = \\frac{z_{i}-z_{min}*9}{z_{max}-z_{min}} + 1$"
   ]
  },
  {
   "cell_type": "markdown",
   "metadata": {
    "vscode": {
     "languageId": "bat"
    }
   },
   "source": [
    "Pseudo code:\n"
   ]
  },
  {
   "cell_type": "code",
   "execution_count": null,
   "metadata": {},
   "outputs": [],
   "source": []
  },
  {
   "attachments": {},
   "cell_type": "markdown",
   "metadata": {},
   "source": [
    "### Question 1.4 (10 marks)\n",
    "\n",
    "Furthermore, we want to consider every customer in social context rather than isolated individuals. A customer’s value is not only determined by her own purchase, but also affected by her friends’ purchase. Suppose the company has some social data that can construct a social network $G$ of all the $N$ customers. For each customer $c_i$, denote all her 1-hop friends as $N(c_i) = \\{ c_j | c_i$ and $c_j$ are connected in $G\\}$.\n",
    "\n",
    "Please derive a quantitative value index $V_i$, based on the version in 1.2, in the form of a mathematical formula to evaluate the customer value of a customer $c_i$ such that:\n",
    "\n",
    "1. A customer’s value index is proportional to the customer’s total purchase amount – the greater the total purchase, the higher the index value.\n",
    "2. All the three years’ purchase amounts are considered, but the more recent year’s data would play a more important role.\n",
    "3. A customer’s value index is not only determined by her own purchase, but also collectively affected by all her friends’ purchases.\n",
    "4. The final score of $V_i$ should be in the range of $[1,10]$"
   ]
  },
  {
   "cell_type": "markdown",
   "metadata": {},
   "source": [
    "#### Answer: \n",
    "\n",
    "\n"
   ]
  },
  {
   "cell_type": "markdown",
   "metadata": {},
   "source": [
    "Similar to the 1.2, we will take the weighted total purchase amount:\n",
    "\n",
    "$P_{total}$ = $w_0*p_i^{0} + w_1*p_i^{1} +w_2*p_i^{2}$\n",
    "\n",
    "where $w_2 > w_1 > w_0$ and $w_2 + w_1 + w_0 = 1$\n",
    "\n",
    "To incorporate the influence of her friend's purchase, we will integrate the set of 1-hop friend of customer $c_i$ as $N(c_i) = \\{ c_j | c_i$ and $c_j$ are connected in $G\\}$. Hence we will calculate the simple sum of the total purchase amount of customer $c_i$'s friend, assuming this set of friends are all of equal importance\n",
    "\n",
    "$=> P_{friends,i} = \\sum_{j\\in\\\\N(c_i)}P_{weighted,j}$\n",
    "\n",
    "So, we combine the customer's purchase with their friend's purchase by:\n",
    "\n",
    "$P_{combined,i} = \\alpha P_{weighted,i} + (1-\\alpha)P_{friends,i}$\n",
    "\n",
    "In this formula, we introduce a parameter $\\alpha$ where $0 < \\alpha < 1$, which balances the influence of the friend's purchase. \n",
    "\n",
    "Similar to before, we will calculate $P_{max}$ and $P_{min}$\n",
    "\n",
    "$P_{min} = min(P_{combined,1},...,P_{combined,N})$\n",
    "\n",
    "$P_{max} = max(P_{combined,1},...,P_{combined,N})$\n",
    "\n",
    "Normalising to the range [1,10]\n",
    "\n",
    "$=> V_i$ = $\\frac{(P_{combined,i}-P_{min})\\cdot9}{P_{max}-P_{min}}$ + 1"
   ]
  },
  {
   "cell_type": "code",
   "execution_count": null,
   "metadata": {},
   "outputs": [],
   "source": []
  },
  {
   "cell_type": "code",
   "execution_count": null,
   "metadata": {},
   "outputs": [],
   "source": []
  },
  {
   "attachments": {},
   "cell_type": "markdown",
   "metadata": {},
   "source": [
    "### Question 1.5 (10 marks)\n",
    "\n",
    "\n",
    "Lastly, we want to build on top of our solution in 1.4 so that every customer is considered in social context dynamically. A customer’s value is not only determined by her own value, but also affected by her friends’ value. Notice here we use “value”. Instead of “purchase”. A customer’s purchases are fixed amounts given, but her value is computed dynamically based on all her friends’ value – the higher the value of her friends, the higher the value of herself.\n",
    "\n",
    "Again with the social network $G$ of all the $N$ customers. For each customer $c_i$, denote all her 1-hop friends as $N(c_i) = \\{ c_j | c_i$ and $c_j$ are connected in $G\\}$.\n",
    "\n",
    "Please derive a quantitative value index $V_i$, based on the version in 1.2, in the form of a mathematical formula to evaluate the customer value of a customer $c_i$ such that:\n",
    "\n",
    "1.\tA customer’s initial value index is proportional to the customer’s total purchase amount – the greater the total purchase, the higher the index value.\n",
    "2.\tAll the three years’ purchase amounts are considered, but the more recent year’s data would play a more important role.\n",
    "3.\tA customer’s final value index is not only determined by her own initial value, but also iteratively and collectively affected by all her friends’ value.\n",
    "4.\tThe final score of V_i should be in the range of $[1,10]$ (Hint: consider PageRank algorithm)"
   ]
  },
  {
   "cell_type": "markdown",
   "metadata": {},
   "source": [
    "#### Answer: "
   ]
  },
  {
   "cell_type": "markdown",
   "metadata": {},
   "source": [
    "Before incorporating the dynamic influence of the customer's social network, we will first calculate the initial value index:\n",
    "\n",
    "$P_{total}$ = $w_0*p_i^{0} + w_1*p_i^{1} +w_2*p_i^{2}$\n",
    "\n",
    "where $w_2 > w_1 > w_0$ and $w_2 + w_1 + w_0 = 1$\n",
    "\n",
    "$P_{min} = min(P_{combined,1},...,P_{combined,N})$\n",
    "\n",
    "$P_{max} = max(P_{combined,1},...,P_{combined,N})$\n",
    "\n",
    "Normalising to the range [1,10]\n",
    "\n",
    "$=> V_i^{0} = \\frac{(P_{weighted,i}-P_{min})\\cdot9}{P_{max}-P_{min}}$ + 1\n",
    "\n",
    "Using the PageRank Algorithm, we will introduce a damping factor to adjust the weights to the friends. Based on their friend's values, the value index of each customer would be iteratively updated. \n",
    "\n",
    "$V_i^{t+1} = (1-d)V_i^{0} + d\\sum_{c_j\\in\\\\N(c_i)} \\frac{V_j^{(t)}}{|N(c_j)|}$ \n",
    "\n",
    "for iteration step $t$,  friend $j$, customer $c_i$\n",
    "\n",
    "\n",
    "Damping factor $d$ controls the influence of friend's values.\n",
    "$(1-d)V_i^{0}$  In this part of the formula, this component considers the customer's initial value.\n",
    "\n"
   ]
  },
  {
   "cell_type": "code",
   "execution_count": null,
   "metadata": {},
   "outputs": [],
   "source": []
  },
  {
   "cell_type": "code",
   "execution_count": null,
   "metadata": {},
   "outputs": [],
   "source": []
  },
  {
   "cell_type": "markdown",
   "metadata": {},
   "source": [
    "# Question 2 (20 marks)\n",
    "\n",
    "Your company wants to leverage a social network data for social marketing. The goal is to identify $k$ Key Opinion Leaders (KOL) to post positive reviews about the new product that your company is about to launch. Your marketing colleague has described their criteria for choosing the KOLs:\n",
    "\n",
    "- Collectively, the positive reviews posted by the KOLs should be able to reach all users in the shortest time possible. \n",
    "\n",
    "\n",
    "We assume that a user will repost all reviews she sees the first time. "
   ]
  },
  {
   "cell_type": "markdown",
   "metadata": {},
   "source": [
    "### Question 2.1 (10 marks)\n",
    "\n",
    "Given a network $G$, a value of $k$ and a number of hops $d$, design a solution in pseudo-code to generate a list of $k$ nodes in $G$ as the identified KOLs such that all users can be reached in $d$ hops by the positive reviews. If no such a solution exists, it should output an error message. "
   ]
  },
  {
   "cell_type": "markdown",
   "metadata": {},
   "source": [
    "#### Pseudo-code: "
   ]
  },
  {
   "cell_type": "markdown",
   "metadata": {},
   "source": [
    "##### Function KOL(A, $k$, $d$)\n",
    "\n",
    "<strong>Input:<br /></strong>\n",
    "&emsp;    A: Adjacency matrix representing the network (1-indexed). <br />\n",
    "&emsp;    $k$: Number of nodes to consider in a combination. <br />\n",
    "&emsp;    $d$: Maximum hops allowed for each node. <br />\n",
    "    \n",
    "<strong>Output:<br /></strong>\n",
    "&emsp;    A list of lists, where each inner list represents a set of $k$ nodes that can cover all nodes, or an error message if no combination can cover all nodes.\n",
    "\n",
    "<strong>Initialize Variables:<br /> </strong>\n",
    "- n is set to the length of A (number of nodes).\n",
    "- reachability is an empty dictionary to store reachable nodes for each node.\n",
    "\n",
    "Using breadth first search technique to identify the distance between two nodes, level by level, for every node.<br /><br />\n",
    "Function bfs(start_node):<br />\n",
    "- Input: starting node, where the search begins (0-indexed).<br /><br />\n",
    "- Output: Set of nodes reachable from start_node within d hops and the distances\n",
    "\n",
    "    - Assuming all lengths between each user is a length of one, set all the neigbours of that level to start with \"False\", indicating not visited yet.\n",
    "    - Initialise a queue list which will remove and return the first element from the list\n",
    "    - Beginning with the starting node, count the number of hops of each node from the starting node. This set of values are represented as a tuple.\n",
    "    - If the current level of node is greater than $d$, skip the current iteration and move to the next element\n",
    "    - Else, add the current node the list 'reachable' and mark as visited.\n",
    "    - If there is an edge between the current node and the neighbour, and the neighbour has yet to be visited, add this neighbour and the level+1 to the queue. \n",
    "    - Update if the shortest path is found.\n",
    "\n",
    "For every possible combination for $k$ nodes\n",
    "- calculate their reachibility based on the current combination\n",
    "    - if the combination of nodes reached by this combination of nodes covers all the nodes\n",
    "        - calculate the length of the path by add this to the list of potential combination\n",
    "\n",
    "From this list of combinations, find the set with the shortest total path \n",
    "\n",
    "Return the list of combinations with the shortest path"
   ]
  },
  {
   "cell_type": "markdown",
   "metadata": {},
   "source": []
  },
  {
   "cell_type": "markdown",
   "metadata": {},
   "source": [
    "### Question 2.2 (10 marks)\t\t\t\t\t\t\t\t\t\t\t \n",
    "Code your solution and test it with the following example network.  You code should take as input (1) the adjacency matrix $A$ of these users' friend network, (2)a value of $k$ and (3) a vallue of $d$, and output a list of $k$ nodes in $G$ as the identified KOLs. \n",
    "\n",
    "\n",
    "\n"
   ]
  },
  {
   "cell_type": "markdown",
   "metadata": {},
   "source": [
    "\n",
    "<div>\n",
    "<img src=\"attachment:Screenshot%202024-02-13%20at%2016.50.30.png\" width=\"300\"/>\n",
    "</div>\n",
    "\n"
   ]
  },
  {
   "cell_type": "code",
   "execution_count": 8,
   "metadata": {},
   "outputs": [],
   "source": [
    "A = np.array([[0, 1, 1, 0, 0, 0, 1, 0, 0, 0, 0, 0, 0, 0],\n",
    "              [1, 0, 1, 1, 0, 0, 0, 0, 0, 0, 0, 0, 0, 0],\n",
    "              [1, 1, 0, 1, 1, 1, 0, 0, 0, 0, 0, 0, 0, 0],\n",
    "              [0, 1, 1, 0, 1, 0, 0, 0, 0, 1, 1, 0, 0, 0],\n",
    "              [0, 0, 1, 1, 0, 1, 0, 0, 1, 0, 0, 0, 1, 0],\n",
    "              [0, 0, 1, 0, 1, 0, 1, 1, 0, 1, 0, 0, 0, 0],\n",
    "              [1, 0, 0, 0, 0, 1, 0, 0, 0, 0, 0, 0, 0, 0],\n",
    "              [0, 0, 0, 0, 0, 1, 0, 0, 1, 0, 0, 0, 1, 1],\n",
    "              [0, 0, 0, 0, 1, 0, 0, 1, 0, 1, 0, 0, 1, 1],\n",
    "              [0, 0, 0, 1, 0, 1, 0, 0, 1, 0, 1, 1, 1, 0],\n",
    "              [0, 0, 0, 1, 0, 0, 0, 0, 0, 1, 0, 1, 0, 0],\n",
    "              [0, 0, 0, 0, 0, 0, 0, 0, 0, 1, 1, 0, 1, 0],\n",
    "              [0, 0, 0, 0, 1, 0, 0, 1, 1, 1, 0, 1, 0, 1],\n",
    "              [0, 0, 0, 0, 0, 0, 0, 1, 1, 0, 0, 0, 1, 0]])\n"
   ]
  },
  {
   "cell_type": "code",
   "execution_count": 9,
   "metadata": {},
   "outputs": [],
   "source": [
    "from itertools import combinations\n",
    "\n",
    "def KOL(A, k, d):\n",
    "    \"\"\"\n",
    "    This function finds the set of k nodes that can cover all nodes in the network using BFS \n",
    "    and selects the set with the shortest total path.\n",
    "\n",
    "    Args:\n",
    "        A: A square matrix representing the network, where A[i][j] = 1 if there's a connection from i to j, 0 otherwise.\n",
    "        k: The number of nodes to consider in a combination (number of nodes to identify).\n",
    "        d: The maximum hops allowed for each node.\n",
    "\n",
    "    Returns:\n",
    "        A list representing the set of k nodes that can cover all nodes with the shortest total path.\n",
    "    \"\"\"\n",
    "    n = len(A)  # Number of nodes in the network\n",
    "\n",
    "    # Function to perform BFS traversal from a starting node\n",
    "    def bfs(start_node):\n",
    "        visited = [False] * n\n",
    "        queue = [(start_node, 0)]  # Queue of tuples (node, level)\n",
    "        reachable = set()\n",
    "        distances = [float('inf')] * n\n",
    "        distances[start_node] = 0\n",
    "\n",
    "        while queue:\n",
    "            current_node, level = queue.pop(0)\n",
    "            if level > d:\n",
    "                continue\n",
    "\n",
    "            reachable.add(current_node)\n",
    "            visited[current_node] = True\n",
    "            for neighbor in range(n):\n",
    "                if A[current_node][neighbor] == 1 and not visited[neighbor]:\n",
    "                    queue.append((neighbor, level + 1))\n",
    "                    visited[neighbor] = True\n",
    "                    if distances[neighbor] > level + 1:\n",
    "                        distances[neighbor] = level + 1\n",
    "\n",
    "        return reachable, distances\n",
    "\n",
    "    # Dictionary to store the reachable nodes within d hops and distances for each node\n",
    "    reachability = {}\n",
    "    all_distances = {}\n",
    "    for node in range(n):\n",
    "        reachability[node], all_distances[node] = bfs(node)\n",
    "\n",
    "    # Generate all combinations of k nodes (1-indexed)\n",
    "    all_combinations = combinations(range(1, n + 1), k)\n",
    "\n",
    "    # Function to calculate total path length for a set of nodes\n",
    "    def total_path_length(nodes):\n",
    "        # Convert 1-indexed nodes to 0-indexed for distance calculations\n",
    "        zero_indexed_nodes = [node - 1 for node in nodes]\n",
    "        combined_distances = [min(all_distances[node][i] for node in zero_indexed_nodes) for i in range(n)]\n",
    "        return sum(combined_distances)\n",
    "\n",
    "    covering_sets = []\n",
    "    for nodes in all_combinations:\n",
    "        combined_reachable = set()\n",
    "        # Convert 1-indexed nodes to 0-indexed for reachability calculations\n",
    "        zero_indexed_nodes = [node - 1 for node in nodes]\n",
    "        for node in zero_indexed_nodes:\n",
    "            combined_reachable.update(reachability[node])\n",
    "        \n",
    "        # Check if the combined reach covers all nodes (0-indexed)\n",
    "        if combined_reachable == set(range(n)):\n",
    "            covering_sets.append((list(nodes), total_path_length(nodes)))\n",
    "    \n",
    "    if not covering_sets:\n",
    "        return f\"No combination of {k} nodes can cover all nodes within {d} hops.\"\n",
    "\n",
    "    # Find the set with the shortest total path\n",
    "    min_value = min(covering_sets, key=lambda x: x[1])[1]\n",
    "\n",
    "    # Get all tuples with the second value equal to the minimum\n",
    "    min_tuples = [x[0] for x in covering_sets if x[1] == min_value]\n",
    "\n",
    "    return min_tuples\n",
    "\n"
   ]
  },
  {
   "cell_type": "code",
   "execution_count": 11,
   "metadata": {},
   "outputs": [
    {
     "name": "stdout",
     "output_type": "stream",
     "text": [
      "[[3, 13]]\n",
      "[[5], [6], [10]]\n",
      "[[5], [6]]\n"
     ]
    }
   ],
   "source": [
    "# test code\n",
    "\n",
    "print(KOL(A,2,2))\n",
    "print(KOL(A,1,3))\n",
    "print(KOL(A,1,2))"
   ]
  },
  {
   "cell_type": "markdown",
   "metadata": {},
   "source": [
    "# Question 3  (10 marks)\n",
    "\n",
    "Use **random indicator variable** to solve the following problems"
   ]
  },
  {
   "cell_type": "markdown",
   "metadata": {},
   "source": [
    "Suppose there are M male students and N female students in a class, use indicator random variable to find out the expected number of male-female student pairs whose birthdays are exactly one week apart."
   ]
  },
  {
   "cell_type": "markdown",
   "metadata": {},
   "source": [
    "### Answer:"
   ]
  },
  {
   "cell_type": "markdown",
   "metadata": {},
   "source": [
    "Event A = birthday of $i$-th male and $j$-th female exactly one week apart\n",
    "\n",
    "\n",
    "For an event A in probability space </br>\n",
    "$I_{A}(w)$ = ${\\text{1 if } w =1 \\text{ ,0 if } w \\neq 1}$ \n",
    "\n",
    "$w$ represents the outcome\n",
    "\n",
    "Let $X$ be the total number of such pairs in the class. Then, X can be expressed as the sum of the indicator variables $X_{ij}$\n",
    "\n",
    "$X = \\sum_{i=1}^M\\sum_{j=1}^N X_{ij}$\n",
    "\n",
    "Assuming a uniform distribution of birthdays across a regular year with 365 days, for any given birthday of th $i$-th male, there are 2 days out of 365 days that the $j$-th female's birthday can be exactly one week apart - one week before and one week after that day. Thus, the probability of the event is given by:\n",
    "$P(X_{ij}=1)=\\frac{2}{365}$ \n",
    "\n",
    "Using the linearity of expectation, the expected value of X would be:\n",
    "\n",
    "$\\mathbb{E} = \\mathbb{E} [\\sum_{i=1}^{M}\\sum_{j=1}^{N} X_{ij}] = \\sum_{i=1}^{M}\\sum_{j=1}^{N} \\mathbb{E}[X_{ij}]$\n",
    "\n",
    "Since $\\mathbb{E}[X_{ij}] = \\frac{2}{365}$\n",
    "\n",
    "$\\mathbb{E} = \\mathbb{E} [\\sum_{i=1}^{M}\\sum_{j=1}^{N} \\frac{2}{365} = M \\times N \\times \\frac{2}{365}$\n",
    "\n",
    "$\\Rightarrow$ the expected number of male-female student pairs whose birthdays are exactly one week apart will be \n",
    "\n",
    "$\\Rightarrow \\mathbb{E}[X_{ij}] = \\frac{2MN}{365}$"
   ]
  },
  {
   "cell_type": "code",
   "execution_count": null,
   "metadata": {},
   "outputs": [],
   "source": []
  },
  {
   "cell_type": "code",
   "execution_count": null,
   "metadata": {},
   "outputs": [],
   "source": []
  },
  {
   "cell_type": "markdown",
   "metadata": {},
   "source": [
    "# Question 4 (20 marks)\n",
    "\n",
    "A challenging problem for insurance industry is how to obtain a policy holder’s accurate and complete pre-existing medical history.  Please design a solution for such an eco-system with three parties – the insurance company, the medical doctor and the policy holder such that the following requirements are met:\n",
    "\n",
    "-\tThe insurance company would be able to obtain policy holder’s medical record from her doctor, only with her explicit authorization. \n",
    "-\tAll the data communication should be carried out with identity properly verified, i.e., no one can fake others’ identity.\n",
    "-\tAll the data communication should be confidential so that only the intended party would be able to see the original message. \n",
    " \n",
    "\t\n",
    "Please describe how such a scheme can be designed by using asymmetric encryption by providing details of all the steps, e.g., Step 1,2,3, etc., and explain why it should satisfy all the requirements. "
   ]
  },
  {
   "cell_type": "markdown",
   "metadata": {},
   "source": [
    "### Answer:"
   ]
  },
  {
   "cell_type": "markdown",
   "metadata": {},
   "source": [
    "Asymmetric encrpytion is a method that employs two distinct keys for encryption and decryption. The two keys - <b>secret</b> and <b>public</b> key, act as a form of authorisation, allowing only authorised users to send and receive information from another authorised user. The difference between these two keys are in their privacy where the public key is available to the public while the secret key is confidential to a user.\n",
    "\n",
    "This method can be employed in this eco-system to ensure that legitimate information is transferred securely. \n",
    "\n",
    "The steps below describes a possible schema for designing this system.\n",
    "\n",
    "\n",
    "Assuming that all 3 parties have a public-secret key pair, <br>\n",
    "$S_j$ = Secret key<br>\n",
    "$P_j$ = Public Key ; where $j$ = respective user <br>\n",
    "$M$ = Insurance company's request\n",
    "$R$ = Policy holder's records\n",
    "\n",
    "\n",
    "<u>Policy-holder</u>  \n",
    "$P_p$, $S_p$\n",
    "\n",
    "<u>Doctor</u>  \n",
    "$P_d$, $S_d$\n",
    "\n",
    "<u>Insurance</u>  \n",
    "$P_i$, $S_i$"
   ]
  },
  {
   "cell_type": "markdown",
   "metadata": {},
   "source": [
    "<b>Step 1:</b>\n",
    "For both the medical doctor and insurance company, a certificate should be obtained by a trusted authority (T) ie. the government. This allows for the identification that the insurance company and medical doctor is legitimate. The public key of the medical doctor and the insurance company would be signed and distributed by T.\n",
    "Similarly, the public key for the policyholder should be distributed by T. \n",
    "As with all asymmetric encryption, for all 3 entities, a private key would be generated and assigned to them as well.\n",
    "\n",
    "<b>Step 2:</b>\n",
    "The insurance company would first send a request (M) to the policyholder to request for the documents. A hash version of this request would be computed by the insurance company, $h(M)$. Hashing converts the document into a unique string of values which ensures the authenticity and integrity of the document. \n",
    "The hashed request is then encrypted with the insurance company's secret key ($S_i$) to create a digital signature. By doing so, this ensures that this is a request sent by the legitimate insurance company. This hashed request can be verified using the public key that is distributed by T.\n",
    "\n",
    "To illustrate this process<br>\n",
    "$M$ -> $h(M)$ -> $S_i(h(M))$\n",
    "\n",
    "The process of encrypting the message guarantees the verification of the sender. Thus, this fulfils the second requirement provided.\n",
    "\n",
    "<b>Step 3:</b>\n",
    "This digitally signed request is then packaged as $(M, S_i(h(M)))$. \n",
    "\n",
    "To ensure that the contents can only be read by the policyholder, the content would be encrypted using the trusted public key of the policyholder. This acts like an envelope which ensures that only the medical doctor can read the contents as only the policy holder's private key can process this.\n",
    "As such, $P_p(M, S_i(h(M)))$ would be received by the policy holder.\n",
    "\n",
    "The process of encrypting with the recipient's public key allows for proper authorisation and confidentiality such that only the intended recipient can read the message, thus fulfilling the third requirement. \n",
    "\n",
    "<b>Step 4:</b>\n",
    "The policy holder who received the request would then decrypt the contents using their secret key $S_p$. \n",
    "\n",
    "Two processes would then take place.\n",
    "Firstly, request $M$ would be computed to obtain $h'(M)$ using the same hashing algorithm that the insurance company uses.\n",
    "Secondly, the policyholder would decrypt the digital signature of the insurance company using $P_i$. \n",
    "Following this, the authenticity and integrity of $M$ would be confirmed by comparing $h'(M)$ and $h(M)$, where $h'(M)$ = $h(M)$. \n",
    "\n",
    "Once verification is complete, the policyholder can take in and process the request.\n",
    "\n",
    "<b>Step 5:</b>\n",
    "The policyholder then encrypts $h(M)$ with their own secret key $S_p$ as a digital signature for authorisation. -> $S_p(h(M))$\n",
    "This package is then encrypted with the medical doctor's public key and sent to the medical doctor -> $P_d(M,S_p(h(M)))$\n",
    "\n",
    "\n",
    "<b>Step 6:</b>\n",
    "The medical doctor receives and decrypts the package which would only by accessible by $S_d$.\n",
    "The policyholder's digital signature is then verified with the computed hashed message using their public key. <br>\n",
    "-> $P_d(S_p(h(M)))$ = $h'(M)$\n",
    "\n",
    "<b>Step 7:</b>\n",
    "The policy holder's medical records prepared by the medical doctor, $R$, would then be hashed and encrypted with the medical doctor's secret key $S_d$. <br>\n",
    "$R$ -> $h(R)$ -> $S_d(h(R))$\n",
    "\n",
    "<b>Step 8:</b>\n",
    "The digitally signed message $M$ and medical record $R$ can be packaged together to ensure identification and integrity of the documents. <br>\n",
    "-> $(R, S_d(h(R)),M ,S_p(h(M)))$\n",
    "\n",
    "<b>Step 9:</b>\n",
    "This package can then be encrypted using the medical doctor's secret key $S_d$ for verification and authentication purposes.\n",
    "-> $S_d((R, S_d(h(R)),M ,S_p(h(M))))$\n",
    "\n",
    "<b>Step 10:</b>\n",
    "The insurance company can then decrypt using the medical doctor's public key. <br>\n",
    "-> $P_d(S_d((R, S_d(h(R)),M ,S_p(h(M))))) = (R, S_d(h(R)),M ,S_p(h(M)))$ <br>\n",
    "-> $P_d(S_d(h(R))) = h'(R)$ <br>\n",
    "-> $P_d(S_p(h(M))) = h'(M)$ <br>\n",
    "As such, this fulfils the first requirement where the explicit authorisation of data retrieval is guaranteed. <br>\n",
    "\n",
    "With this, the insurance company can retrieve the information of the policy holder while remaining the integrity, identity and confidentiality of the information.\n",
    "\n",
    "\n"
   ]
  },
  {
   "cell_type": "code",
   "execution_count": null,
   "metadata": {},
   "outputs": [],
   "source": []
  },
  {
   "cell_type": "code",
   "execution_count": null,
   "metadata": {},
   "outputs": [],
   "source": []
  },
  {
   "cell_type": "code",
   "execution_count": null,
   "metadata": {},
   "outputs": [],
   "source": []
  }
 ],
 "metadata": {
  "kernelspec": {
   "display_name": "Python 3 (ipykernel)",
   "language": "python",
   "name": "python3"
  },
  "language_info": {
   "codemirror_mode": {
    "name": "ipython",
    "version": 3
   },
   "file_extension": ".py",
   "mimetype": "text/x-python",
   "name": "python",
   "nbconvert_exporter": "python",
   "pygments_lexer": "ipython3",
   "version": "3.12.2"
  }
 },
 "nbformat": 4,
 "nbformat_minor": 2
}
